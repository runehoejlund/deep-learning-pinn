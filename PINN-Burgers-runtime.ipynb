{
 "cells": [
  {
   "cell_type": "code",
   "execution_count": 1,
   "id": "334323b2",
   "metadata": {},
   "outputs": [],
   "source": [
    "import torch\n",
    "import torch.nn as nn\n",
    "import torch.optim as optim\n",
    "import matplotlib.pyplot as plt\n",
    "import scipy.io\n",
    "import numpy as np\n",
    "import lhsmdu\n",
    "import time"
   ]
  },
  {
   "cell_type": "code",
   "execution_count": 2,
   "id": "58cb599d",
   "metadata": {},
   "outputs": [],
   "source": [
    "from matplotlib import rcParams\n",
    "rcParams.update({\n",
    "    \"font.size\": 14})"
   ]
  },
  {
   "cell_type": "markdown",
   "id": "76425ca8",
   "metadata": {},
   "source": [
    "## Load in FEM Validation Data"
   ]
  },
  {
   "cell_type": "code",
   "execution_count": 3,
   "id": "eb0eb1ea",
   "metadata": {},
   "outputs": [],
   "source": [
    "burgers = scipy.io.loadmat('matlab/burgers.mat')\n",
    "X_ = torch.from_numpy(burgers['X']).reshape(-1).float()\n",
    "T_ = torch.from_numpy(burgers['T']).reshape(-1).float()\n",
    "u_ = torch.from_numpy(burgers['u']).reshape(-1).float()\n",
    "X_.requires_grad = True\n",
    "T_.requires_grad = True\n",
    "xmin = X_.min()\n",
    "xmax = X_.max()\n",
    "N_x = X_.shape[0]"
   ]
  },
  {
   "cell_type": "code",
   "execution_count": 4,
   "id": "2208f53e",
   "metadata": {},
   "outputs": [],
   "source": [
    "u_ = u_.reshape(X_.shape[0], T_.shape[0])"
   ]
  },
  {
   "cell_type": "code",
   "execution_count": 5,
   "id": "eb7b0f0a",
   "metadata": {},
   "outputs": [
    {
     "data": {
      "image/png": "[encoded data removed]",
      "text/plain": [
       "<Figure size 432x288 with 2 Axes>"
      ]
     },
     "metadata": {
      "needs_background": "light"
     },
     "output_type": "display_data"
    }
   ],
   "source": [
    "## Evaluate network\n",
    "x_, t_ = torch.meshgrid(X_, T_)\n",
    "plt.contourf(t_.detach(), x_.detach(), u_.detach(), levels=100, cmap='RdYlBu')\n",
    "plt.colorbar()\n",
    "plt.show()"
   ]
  },
  {
   "cell_type": "code",
   "execution_count": 6,
   "id": "533bad8a",
   "metadata": {},
   "outputs": [],
   "source": [
    "x_eval = x_.reshape(-1, 1)\n",
    "t_eval = t_.reshape(-1, 1)"
   ]
  },
  {
   "cell_type": "markdown",
   "id": "eb460f0d",
   "metadata": {},
   "source": [
    "## Create collocation points"
   ]
  },
  {
   "cell_type": "code",
   "execution_count": 7,
   "id": "4c732b54",
   "metadata": {},
   "outputs": [],
   "source": [
    "nu = 1/(100*torch.tensor(np.pi))\n",
    "_u_i = lambda x: -torch.sin(torch.tensor(np.pi)*x)\n",
    "_u_b = lambda t: 0*t"
   ]
  },
  {
   "cell_type": "code",
   "execution_count": 8,
   "id": "68aaeec2",
   "metadata": {},
   "outputs": [],
   "source": [
    "n = 20 # Number of data points in each dimension\n",
    "n_i = 10 # number of initial points\n",
    "n_b = 10 # number of boundary points\n",
    "xmin = -1\n",
    "xmax = 1"
   ]
  },
  {
   "cell_type": "code",
   "execution_count": 9,
   "id": "799560e1",
   "metadata": {},
   "outputs": [],
   "source": [
    "def uniform(n, n_i, n_b):\n",
    "    n_x = n # Number of data points in interior domain\n",
    "    n_t = n\n",
    "\n",
    "    # Interior of domain\n",
    "    X = torch.linspace(xmin, xmax, n_x+2, requires_grad=True)[1:-1]\n",
    "    T = torch.linspace(0, 1, n_t+1, requires_grad=True)[1:]\n",
    "    x, t = torch.meshgrid((X, T))\n",
    "    x = x.reshape(-1, 1)\n",
    "    t = t.reshape(-1, 1)\n",
    "\n",
    "    # Initial\n",
    "    x_i = torch.linspace(xmin, xmax, n_i,requires_grad=True).reshape(-1, 1)[1:-1]\n",
    "    t_i = torch.zeros(x_i.shape, requires_grad=True)\n",
    "    u_i = _u_i(x_i)\n",
    "\n",
    "    # Boundary\n",
    "    x_b = torch.cat((xmin*torch.ones(n_b, 1, requires_grad=True),\n",
    "                     xmax*torch.ones(n_b, 1, requires_grad=True)))\n",
    "    t_b = torch.cat((torch.linspace(0, 1, n_b, requires_grad=True),\n",
    "                    torch.linspace(0, 1, n_b, requires_grad=True)), dim=0).reshape(-1, 1)\n",
    "    u_b = _u_b(t_b)\n",
    "\n",
    "    return x, t, x_i, t_i, u_i, x_b, t_b, u_b\n"
   ]
  },
  {
   "cell_type": "code",
   "execution_count": 10,
   "id": "756f3e4f",
   "metadata": {},
   "outputs": [],
   "source": [
    "def hypercube(n, n_i, n_b):\n",
    "    cube = lhsmdu.sample(2, n*n)\n",
    "    x = torch.from_numpy(cube[0, :]).reshape(-1, 1)*(xmax-xmin) + xmin\n",
    "    t = torch.from_numpy(cube[1, :]).reshape(-1, 1)\n",
    "    x = x.float()\n",
    "    t = t.float()\n",
    "    x.requires_grad = True\n",
    "    t.requires_grad = True\n",
    "    \n",
    "    # initial\n",
    "    x_i = torch.from_numpy(lhsmdu.sample(1, n_i)[0, :]).reshape(-1, 1)*(xmax - xmin) + xmin\n",
    "    x_i.requires_grad=True\n",
    "    x_i = x_i.float()\n",
    "    t_i = torch.zeros(x_i.shape, requires_grad=True)\n",
    "    u_i = _u_i(x_i)\n",
    "    \n",
    "    # boundary\n",
    "    x_b = torch.cat((xmin*torch.ones(n_b, 1, requires_grad=True),\n",
    "                     xmax*torch.ones(n_b, 1, requires_grad=True))).float()\n",
    "    t_b = torch.from_numpy(lhsmdu.sample(1, n_b)[0, :]).reshape(-1, 1)\n",
    "    t_b = torch.cat((t_b, t_b)).float()\n",
    "    t_b.requires_grad=True\n",
    "    u_b = _u_b(t_b)\n",
    "    \n",
    "    return x, t, x_i, t_i, u_i, x_b, t_b, u_b\n",
    "    "
   ]
  },
  {
   "cell_type": "code",
   "execution_count": 11,
   "id": "2db103bf",
   "metadata": {},
   "outputs": [],
   "source": [
    "def random(n, n_i, n_b):\n",
    "    cube = lhsmdu.createRandomStandardUniformMatrix(2, n*n)\n",
    "    x = torch.from_numpy(cube[0, :]).reshape(-1, 1)*(xmax-xmin) + xmin\n",
    "    t = torch.from_numpy(cube[1, :]).reshape(-1, 1)\n",
    "    x = x.float()\n",
    "    t = t.float()\n",
    "    x.requires_grad = True\n",
    "    t.requires_grad = True\n",
    "    \n",
    "    # initial\n",
    "    x_i = torch.from_numpy(lhsmdu.createRandomStandardUniformMatrix(1, n_i)[0, :]).reshape(-1, 1)*(xmax - xmin) + xmin\n",
    "    x_i.requires_grad=True\n",
    "    x_i = x_i.float()\n",
    "    t_i = torch.zeros(x_i.shape, requires_grad=True)\n",
    "    u_i = _u_i(x_i)\n",
    "    \n",
    "    # boundary\n",
    "    x_b = torch.cat((xmin*torch.ones(n_b, 1, requires_grad=True),\n",
    "                     xmax*torch.ones(n_b, 1, requires_grad=True))).float()\n",
    "    t_b = torch.from_numpy(lhsmdu.createRandomStandardUniformMatrix(1, n_b)[0, :]).reshape(-1, 1)\n",
    "    t_b = torch.cat((t_b, t_b)).float()\n",
    "    t_b.requires_grad=True\n",
    "    u_b = _u_b(t_b)\n",
    "    \n",
    "    return x, t, x_i, t_i, u_i, x_b, t_b, u_b\n",
    "    "
   ]
  },
  {
   "cell_type": "markdown",
   "id": "963faa34",
   "metadata": {},
   "source": [
    "## Define the network class"
   ]
  },
  {
   "cell_type": "code",
   "execution_count": 13,
   "id": "a51c63ff",
   "metadata": {},
   "outputs": [],
   "source": [
    "class Net(nn.Module):\n",
    "    def __init__(self,\n",
    "        N_in, N_out,\n",
    "        N_hid = 30, N_layers=3,\n",
    "        loss_func=nn.MSELoss(),\n",
    "        learning_rate = 0.01,\n",
    "        optimizer = optim.Adam,\n",
    "        act_func=nn.Tanh()\n",
    "                ):\n",
    "        \n",
    "        super(Net, self).__init__()\n",
    "        self.loss_func = loss_func\n",
    "\n",
    "        # Initialise layers\n",
    "        layers = [nn.Linear(in_features=N_in,\n",
    "                    out_features=N_hid,\n",
    "                    bias=True), act_func]\n",
    "        for _ in range(N_layers - 1):\n",
    "            layers += [nn.Linear(in_features=N_hid,\n",
    "                    out_features=N_hid,\n",
    "                    bias=True), act_func]\n",
    "        layers += [nn.Linear(in_features=N_hid,\n",
    "                    out_features=N_out,\n",
    "                    bias=True)]\n",
    "\n",
    "        self.layers = nn.Sequential(*layers)\n",
    "        self.optimizer = optimizer(self.parameters(), lr=learning_rate)\n",
    "        \n",
    "        # Save hyperparameters\n",
    "        self.N_hid = N_hid\n",
    "        self.N_layers = N_layers\n",
    "        self.act_func = act_func\n",
    "        self.learning_rate = learning_rate\n",
    "        self.N_params = sum([p.numel() for p in self.parameters()])\n",
    "        \n",
    "    def forward(self, x, t):\n",
    "        x = torch.cat((x, t), dim=1)\n",
    "        out = self.layers(x)\n",
    "        return out\n",
    "    \n",
    "    def PDE(self, x, t):\n",
    "        u_hat = self.forward(x, t)\n",
    "        u_x_hat = torch.autograd.grad(u_hat, x, torch.ones(x.shape), create_graph=True)[0]\n",
    "        u_xx_hat = torch.autograd.grad(u_x_hat, x, torch.ones(x.shape), create_graph=True)[0]\n",
    "        u_t_hat = torch.autograd.grad(u_hat, t, torch.ones(t.shape), create_graph=True)[0]\n",
    "        \n",
    "        pde = nu*u_xx_hat - u_hat*u_x_hat - u_t_hat.reshape(u_x_hat.shape)\n",
    "        return pde\n",
    "    \n",
    "    def loss_BC(self, x_b, t_b, u_b):\n",
    "        u_b_hat = self.forward(x_b, t_b)\n",
    "        loss = self.loss_func(u_b, u_b_hat.reshape(u_b.shape))\n",
    "        return loss\n",
    "    \n",
    "    def loss_IC(self, x_i, t_i, u_i):\n",
    "        u_i_hat = self.forward(x_i, t_i)\n",
    "        loss = self.loss_func(u_i, u_i_hat.reshape(u_i.shape))\n",
    "        return loss\n",
    "\n",
    "    def loss_PDE(self, x, t):\n",
    "        pde = self.PDE(x, t)\n",
    "        loss = self.loss_func(pde, torch.zeros(pde.shape, requires_grad=True))\n",
    "        return loss\n",
    "    \n",
    "    def loss(self, x, t, x_b, t_b, u_b, x_i, t_i, u_i):\n",
    "        loss_PDE = self.loss_PDE(x, t)\n",
    "        loss_BC = self.loss_BC(x_b, t_b, u_b)\n",
    "        loss_IC = self.loss_IC(x_i, t_i, u_i)\n",
    "        loss = loss_PDE + loss_BC + loss_IC\n",
    "        return loss, loss_PDE, loss_IC, loss_BC\n",
    "    \n",
    "    def step(self, x, t, x_b, t_b, u_b, x_i, t_i, u_i):\n",
    "        self.train()\n",
    "        self.optimizer.zero_grad()\n",
    "        loss, loss_PDE, loss_IC, loss_BC = self.loss(x, t, x_b, t_b, u_b, x_i, t_i, u_i)\n",
    "        loss.backward(retain_graph=True)\n",
    "        self.optimizer.step()\n",
    "        self.eval()\n",
    "        return loss.detach().item()"
   ]
  },
  {
   "cell_type": "markdown",
   "id": "75e37a85",
   "metadata": {},
   "source": [
    "## Definition of some helper functions"
   ]
  },
  {
   "cell_type": "code",
   "execution_count": 14,
   "id": "cfb1401f",
   "metadata": {},
   "outputs": [],
   "source": [
    "def MSE(net, u_, x, t):\n",
    "    u = u_.detach().reshape(-1,1)\n",
    "    u_hat = net(x,t).detach().reshape(-1,1)\n",
    "    MSE = torch.mean((u - u_hat)**2)\n",
    "    return MSE"
   ]
  },
  {
   "cell_type": "code",
   "execution_count": 15,
   "id": "d898de31",
   "metadata": {},
   "outputs": [],
   "source": [
    "def progress(i, total):\n",
    "    print(\"\\r\", '{:.2f}% '.format((i+1)*100/total), end=\"\")"
   ]
  },
  {
   "cell_type": "markdown",
   "id": "0820e109",
   "metadata": {},
   "source": [
    "## The training loop"
   ]
  },
  {
   "cell_type": "code",
   "execution_count": 26,
   "id": "45687045",
   "metadata": {},
   "outputs": [
    {
     "name": "stdout",
     "output_type": "stream",
     "text": [
      "0 100 100\n",
      "1 30 100\n",
      "2 100 30\n",
      "3 20 20\n"
     ]
    }
   ],
   "source": [
    "for k, (n, N_hid) in enumerate(zip(ns, N_hids)):\n",
    "    print(k, n, N_hid)"
   ]
  },
  {
   "cell_type": "code",
   "execution_count": 24,
   "id": "99fb0f91",
   "metadata": {},
   "outputs": [
    {
     "data": {
      "text/plain": [
       "([100, 30, 100, 20],)"
      ]
     },
     "execution_count": 24,
     "metadata": {},
     "output_type": "execute_result"
    }
   ],
   "source": [
    "n"
   ]
  },
  {
   "cell_type": "code",
   "execution_count": null,
   "id": "18c00c64",
   "metadata": {
    "scrolled": false
   },
   "outputs": [
    {
     "name": "stdout",
     "output_type": "stream",
     "text": [
      " 0.05% \n",
      "Epoch: 10. test loss: 0.254. train loss: 0.462. validation loss: 0.350\n",
      " 0.07% "
     ]
    }
   ],
   "source": [
    "ns = [100, 20, 100, 20]\n",
    "N_hids = [100, 100, 20, 20]\n",
    "\n",
    "# Loop for comparing different numbers of data points\n",
    "epochs = 20000\n",
    "loss_train, loss_validation, loss_test, runtime = torch.zeros(len(ns), epochs), torch.zeros(len(ns), epochs), torch.zeros(len(ns), epochs), torch.zeros(len(ns), epochs)\n",
    "nets_runtime = []\n",
    "N_layers = 4\n",
    "n_val = 30\n",
    "x_val, t_val, x_i_val, t_i_val, u_i_val, x_b_val, t_b_val, u_b_val = random(n_val, n_val, n_val)\n",
    "\n",
    "\n",
    "for k, (n, N_hid) in enumerate(zip(ns, N_hids)):\n",
    "    t0 = time.perf_counter()\n",
    "    net = Net(N_in=2, N_out=1, N_hid=N_hid, N_layers=N_layers)\n",
    "    for e in range(epochs):\n",
    "        x, t, x_i, t_i, u_i, x_b, t_b, u_b = random(n, n, n)    \n",
    "        loss_train[k, e] = net.step(x, t, x_b, t_b, u_b, x_i, t_i, u_i)\n",
    "        loss_test[k,e] = MSE(net, u_, x_eval, t_eval)\n",
    "        progress(e, epochs)\n",
    "        _loss_validation, _, _, _ = net.loss(x_val, t_val, x_i_val, t_i_val, u_i_val, x_b_val, t_b_val, u_b_val)\n",
    "        loss_validation[k, e] = _loss_validation.detach().item()\n",
    "        runtime[k, e] = time.perf_counter() - t0\n",
    "        if ((e+1)%10 ==0):\n",
    "            print('\\nEpoch: {:d}. test loss: {:.3f}. train loss: {:.3f}. validation loss: {:.3f}'.format(e+1, loss_test[k,e], loss_train[k,e], loss_validation[k,e]))\n",
    "    nets_runtime.append(net)"
   ]
  },
  {
   "cell_type": "markdown",
   "id": "72e47e5d",
   "metadata": {},
   "source": [
    "## Produce runtime figures"
   ]
  },
  {
   "cell_type": "code",
   "execution_count": 38,
   "id": "68ae2b8d",
   "metadata": {},
   "outputs": [
    {
     "data": {
      "text/plain": [
       "<matplotlib.legend.Legend at 0x7fe713fdb700>"
      ]
     },
     "execution_count": 38,
     "metadata": {},
     "output_type": "execute_result"
    },
    {
     "data": {
      "image/png": "[encoded data removed]",
      "text/plain": [
       "<Figure size 360x288 with 1 Axes>"
      ]
     },
     "metadata": {
      "needs_background": "light"
     },
     "output_type": "display_data"
    }
   ],
   "source": [
    "fig, ax = plt.subplots(figsize=(5,4))\n",
    "for k, (n, N_hid) in enumerate(zip(ns, N_hids)):\n",
    "    ax.semilogy(runtime[k, :], loss_test[k, :], label=f'n={n}. units={N_hid}')\n",
    "ax.set_xlabel('Runtime [s]')\n",
    "ax.set_ylabel('Test error')\n",
    "fig.legend()\n"
   ]
  },
  {
   "cell_type": "code",
   "execution_count": 121,
   "id": "df0fd3d4",
   "metadata": {},
   "outputs": [
    {
     "data": {
      "image/png": "[encoded data removed]",
      "text/plain": [
       "<Figure size 360x180 with 1 Axes>"
      ]
     },
     "metadata": {
      "needs_background": "light"
     },
     "output_type": "display_data"
    }
   ],
   "source": [
    "fig, ax = plt.subplots(figsize=(5,2.5))\n",
    "ax.semilogy(loss_physics[:e], color='red', alpha=1, label='Training')\n",
    "ax.semilogy(loss_validation[:e], color='blue', alpha=0.5, label='Validation')\n",
    "#ax.semilogy(loss_data[:e], color='green', alpha=0.5, label='Test')\n",
    "fig.legend(ncol=3, bbox_to_anchor=(1,1.11))\n",
    "ax.set_ylabel('Loss')\n",
    "ax.set_xlabel('Epochs')\n",
    "ax.grid()\n",
    "fig.tight_layout()\n",
    "fig.savefig('./figs/burger_master_loss.png', dpi=600, bbox_inches='tight')"
   ]
  }
 ],
 "metadata": {
  "kernelspec": {
   "display_name": "Python 3 (ipykernel)",
   "language": "python",
   "name": "python3"
  },
  "language_info": {
   "codemirror_mode": {
    "name": "ipython",
    "version": 3
   },
   "file_extension": ".py",
   "mimetype": "text/x-python",
   "name": "python",
   "nbconvert_exporter": "python",
   "pygments_lexer": "ipython3",
   "version": "3.9.6"
  }
 },
 "nbformat": 4,
 "nbformat_minor": 5
}
