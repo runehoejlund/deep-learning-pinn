{
 "cells": [
  {
   "cell_type": "markdown",
   "metadata": {},
   "source": [
    "# Evaluation of Function Approximation using K-Fold Cross Validation"
   ]
  },
  {
   "cell_type": "markdown",
   "metadata": {},
   "source": [
    "This Notebook builds on top of the `1a-dataloader-example` and demonstrates\n",
    "1. Evaluating NN using K-fold-cross validation for 1D-Data"
   ]
  },
  {
   "cell_type": "code",
   "execution_count": 2,
   "metadata": {},
   "outputs": [],
   "source": [
    "import matplotlib.pyplot as plt\n",
    "import torch\n",
    "from torch.autograd import Variable\n",
    "import torch.nn as nn\n",
    "import torch.optim as optim\n",
    "from utils import plot"
   ]
  },
  {
   "cell_type": "code",
   "execution_count": 3,
   "metadata": {},
   "outputs": [],
   "source": [
    "# %matplotlib widget\n",
    "%matplotlib inline"
   ]
  },
  {
   "cell_type": "markdown",
   "metadata": {},
   "source": [
    "## Network Definition"
   ]
  },
  {
   "cell_type": "code",
   "execution_count": 4,
   "metadata": {},
   "outputs": [],
   "source": [
    "class Net(nn.Module):\n",
    "    def __init__(self,\n",
    "        N_in, N_out, N_hid,\n",
    "        loss_func=nn.MSELoss(),\n",
    "        LEARNING_RATE = 0.001,\n",
    "        optimizer = optim.Adam,\n",
    "        use_grad=False,\n",
    "        act_func=nn.LeakyReLU()):\n",
    "        \n",
    "        super(Net, self).__init__()\n",
    "        self.layers = nn.Sequential(\n",
    "                nn.Linear(in_features=N_in,\n",
    "                    out_features=N_hid,\n",
    "                    bias=True),\n",
    "                nn.LeakyReLU(),\n",
    "                nn.Linear(in_features=N_hid,\n",
    "                    out_features=N_out,\n",
    "                    bias=True)\n",
    "            )\n",
    "        \n",
    "        self.loss_func = loss_func\n",
    "        self.optimizer = optimizer(self.parameters(), lr=LEARNING_RATE)\n",
    "        self.use_grad = use_grad\n",
    "        \n",
    "    def forward(self, x):\n",
    "        out = self.layers(x)\n",
    "        return out\n",
    "\n",
    "    def loss(self, x, y, y_grad=None):\n",
    "        out = self.forward(x)\n",
    "        loss = self.loss_func(y, out)\n",
    "        if self.use_grad:\n",
    "            out_grad = torch.autograd.grad(out, x, torch.ones(x.shape), create_graph=True)[0]\n",
    "            loss += self.loss_func(y_grad, out_grad)\n",
    "        return loss\n",
    "    \n",
    "    def step(self, x, y, y_grad=None):\n",
    "        self.train()\n",
    "        self.optimizer.zero_grad()\n",
    "        loss = self.loss(x, y, y_grad)\n",
    "        loss.backward(retain_graph=True)\n",
    "        self.optimizer.step()\n",
    "        self.eval()\n",
    "        return loss.detach()"
   ]
  },
  {
   "cell_type": "markdown",
   "metadata": {},
   "source": [
    "## 1D"
   ]
  },
  {
   "cell_type": "markdown",
   "metadata": {},
   "source": [
    "### Loading data"
   ]
  },
  {
   "cell_type": "code",
   "execution_count": 5,
   "metadata": {},
   "outputs": [],
   "source": [
    "from DatasetFunction1D import DatasetFunction1D\n",
    "\n",
    "x = torch.linspace(-1,1, 100, requires_grad=True).reshape(-1,1)\n",
    "dataset = DatasetFunction1D(x)\n",
    "_, y, y_grad = dataset[:]\n",
    "\n",
    "N_in = x.shape[1]\n",
    "N_out = y.shape[1]"
   ]
  },
  {
   "cell_type": "markdown",
   "metadata": {},
   "source": [
    "### KFold-Cross Validation"
   ]
  },
  {
   "cell_type": "code",
   "execution_count": 6,
   "metadata": {},
   "outputs": [],
   "source": [
    "from sklearn.model_selection import KFold\n",
    "from torch.utils.data import SubsetRandomSampler\n",
    "\n",
    "K = 2 # Number of folds\n",
    "kfold = KFold(n_splits=K, shuffle=True)"
   ]
  },
  {
   "cell_type": "code",
   "execution_count": 22,
   "metadata": {},
   "outputs": [
    {
     "name": "stdout",
     "output_type": "stream",
     "text": [
      "FOLD: 0\n",
      "FOLD: 1\n"
     ]
    }
   ],
   "source": [
    "batch_size = 10\n",
    "epochs = 100\n",
    "\n",
    "losses_train = torch.zeros(K, epochs)\n",
    "losses_test = torch.zeros(K)\n",
    "\n",
    "for fold, (train_ids, test_ids) in enumerate(kfold.split(dataset)):\n",
    "    print('FOLD: ' + str(fold))\n",
    "    train_sampler = SubsetRandomSampler(train_ids)\n",
    "    train_loader = torch.utils.data.DataLoader(\n",
    "                        dataset, \n",
    "                        batch_size=batch_size,\n",
    "                        sampler=train_sampler)\n",
    "\n",
    "    net = Net(N_in, N_out, N_hid=100, use_grad=True)\n",
    "\n",
    "    for epoch in range(epochs):\n",
    "        current_loss = 0.0\n",
    "        for i, batch in enumerate(train_loader):\n",
    "            x_train, y_train, y_train_grad = batch\n",
    "            current_loss += net.step(x_train, y_train, y_train_grad)\n",
    "        losses_train[fold, epoch] = current_loss / (i+1)\n",
    "    \n",
    "    # Evaluation for this fold\n",
    "    x_test, y_test, y_grad_test = dataset[test_ids]\n",
    "    losses_test[fold] = net.loss(x_test, y_test, y_grad_test)"
   ]
  },
  {
   "cell_type": "code",
   "execution_count": 23,
   "metadata": {},
   "outputs": [
    {
     "name": "stdout",
     "output_type": "stream",
     "text": [
      "Test Loss: 6.294\n"
     ]
    }
   ],
   "source": [
    "loss_test = torch.mean(losses_test).detach()\n",
    "print(\"Test Loss: {:.3f}\".format(loss_test))"
   ]
  },
  {
   "cell_type": "code",
   "execution_count": 24,
   "metadata": {},
   "outputs": [
    {
     "data": {
      "image/png": "[encoded data removed]",
      "text/plain": [
       "<Figure size 432x288 with 1 Axes>"
      ]
     },
     "metadata": {
      "needs_background": "light"
     },
     "output_type": "display_data"
    }
   ],
   "source": [
    "plot(range(epochs), losses_train.T)\n",
    "plt.legend(['Fold ' + str(e+1) for e in range(epochs)])\n",
    "plt.xlabel('Epoch')\n",
    "plt.ylabel('Train error')\n",
    "plt.show()"
   ]
  },
  {
   "cell_type": "code",
   "execution_count": 25,
   "metadata": {},
   "outputs": [
    {
     "data": {
      "image/png": "[encoded data removed]",
      "text/plain": [
       "<Figure size 432x288 with 1 Axes>"
      ]
     },
     "metadata": {
      "needs_background": "light"
     },
     "output_type": "display_data"
    }
   ],
   "source": [
    "plot(range(K), losses_train[:,-1], 'x')\n",
    "plot(range(K), losses_test, 'o')\n",
    "plt.legend(['Train Error', 'Test Error'])\n",
    "plt.xlabel('Fold')\n",
    "plt.ylabel('Error')\n",
    "plt.xticks(range(K))\n",
    "plt.show()"
   ]
  },
  {
   "cell_type": "markdown",
   "metadata": {},
   "source": [
    "### Plot data and predictions"
   ]
  },
  {
   "cell_type": "code",
   "execution_count": 26,
   "metadata": {},
   "outputs": [
    {
     "data": {
      "image/png": "[encoded data removed]",
      "text/plain": [
       "<Figure size 432x288 with 1 Axes>"
      ]
     },
     "metadata": {
      "needs_background": "light"
     },
     "output_type": "display_data"
    }
   ],
   "source": [
    "out = net(x)\n",
    "plot(x, y, '.')\n",
    "plot(x, out, 'r')\n",
    "plt.show()"
   ]
  }
 ],
 "metadata": {
  "interpreter": {
   "hash": "31d7989649452b8ff5b252a3e34caf45e4ffd8a5787fe28fc2ce0245f11b7782"
  },
  "kernelspec": {
   "display_name": "Python 3.7.6 64-bit ('ml': conda)",
   "name": "python3"
  },
  "language_info": {
   "codemirror_mode": {
    "name": "ipython",
    "version": 3
   },
   "file_extension": ".py",
   "mimetype": "text/x-python",
   "name": "python",
   "nbconvert_exporter": "python",
   "pygments_lexer": "ipython3",
   "version": "3.7.6"
  },
  "orig_nbformat": 4
 },
 "nbformat": 4,
 "nbformat_minor": 2
}
