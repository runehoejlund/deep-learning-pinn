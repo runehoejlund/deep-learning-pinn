{
 "cells": [
  {
   "cell_type": "code",
   "execution_count": 1,
   "id": "334323b2",
   "metadata": {},
   "outputs": [],
   "source": [
    "import torch\n",
    "import torch.nn as nn\n",
    "import torch.optim as optim\n",
    "import torch.nn.functional as F\n",
    "import numpy as np\n",
    "import matplotlib.pyplot as plt\n",
    "from torch.nn import Linear"
   ]
  },
  {
   "cell_type": "markdown",
   "id": "eb460f0d",
   "metadata": {},
   "source": [
    "## Defining the function and solution"
   ]
  },
  {
   "cell_type": "code",
   "execution_count": 47,
   "id": "fa7d457e",
   "metadata": {},
   "outputs": [],
   "source": [
    "c = 2\n",
    "def u(x, t):\n",
    "    i = x - c * t\n",
    "    func = torch.sin(i)\n",
    "    return func\n",
    "\n",
    "def ux(x, t):\n",
    "    i = x - c * t\n",
    "    func = torch.cos(i)\n",
    "    return func"
   ]
  },
  {
   "cell_type": "code",
   "execution_count": 55,
   "id": "799560e1",
   "metadata": {},
   "outputs": [],
   "source": [
    "# Domain\n",
    "x = torch.rand(100,1, requires_grad=True)\n",
    "t = torch.rand(100,1, requires_grad=True)\n",
    "u_exact = u(x, t)\n",
    "\n",
    "# Initial\n",
    "x_i = torch.rand(10,1,requires_grad=True)\n",
    "t_i = torch.zeros(x_i.shape, requires_grad=True)\n",
    "u_i = u(x_i, t_i)\n",
    "\n",
    "# Boundary\n",
    "x_b = torch.cat((torch.zeros(5,1, requires_grad=True),torch.ones(5,1, requires_grad=True)))\n",
    "t_b = torch.rand(x_b.shape, requires_grad=True)\n",
    "u_b = u(x_b, t_b)"
   ]
  },
  {
   "cell_type": "code",
   "execution_count": 85,
   "id": "6ef4f10f",
   "metadata": {},
   "outputs": [
    {
     "data": {
      "text/plain": [
       "Text(0.5, 1.0, 'Training points in domain')"
      ]
     },
     "execution_count": 85,
     "metadata": {},
     "output_type": "execute_result"
    },
    {
     "data": {
      "image/png": "[encoded data removed]",
      "text/plain": [
       "<Figure size 576x432 with 2 Axes>"
      ]
     },
     "metadata": {
      "needs_background": "light"
     },
     "output_type": "display_data"
    }
   ],
   "source": [
    "fig, ax = plt.subplots(figsize=(8,6))\n",
    "d = ax.scatter(t.detach(), x.detach(), c=u_exact.detach(), marker='.', label='Domain', vmax=1, vmin=-1)\n",
    "i = ax.scatter(t_i.detach(), x_i.detach(), c=u_i.detach(), marker='x', label='Initial', vmax=1, vmin=-1)\n",
    "b = ax.scatter(t_b.detach(), x_b.detach(), c=u_b.detach(), marker='+', label='Boundary', vmax=1, vmin=-1)\n",
    "fig.colorbar(d)\n",
    "ax.set_xlabel('t')\n",
    "ax.set_ylabel('x')\n",
    "ax.set_title('Training points in domain')"
   ]
  },
  {
   "cell_type": "code",
   "execution_count": 87,
   "id": "a51c63ff",
   "metadata": {},
   "outputs": [],
   "source": [
    "N_in = 2\n",
    "N_out = 1\n",
    "N_hid = 10\n",
    "class Net(nn.Module):\n",
    "    def __init__(self,\n",
    "        N_in, N_out, N_hid,\n",
    "        loss_func=nn.MSELoss(),\n",
    "        LEARNING_RATE = 0.001,\n",
    "        optimizer = optim.Adam\n",
    "                ):\n",
    "        \n",
    "        super(Net, self).__init__()\n",
    "        self.layers = nn.Sequential(\n",
    "                nn.Linear(in_features=N_in,\n",
    "                          out_features=N_hid,\n",
    "                          bias=True),\n",
    "                nn.Sigmoid(),\n",
    "                nn.Linear(in_features=N_hid,\n",
    "                          out_features=N_out,\n",
    "                          bias=True)\n",
    "        )\n",
    "        \n",
    "        self.loss_func = loss_func\n",
    "        self.optimizer = optimizer(self.parameters(), lr=LEARNING_RATE)\n",
    "        \n",
    "    def forward(self, x):\n",
    "        out = self.layers(x)\n",
    "        return out\n",
    "    \n",
    "    def loss_BC(self, x_b, t_b, u_b):\n",
    "        u_b_hat = self.forward(x_b, t_i)\n",
    "        loss = self.loss_func(u_b, u_b_hat)\n",
    "        return loss\n",
    "    \n",
    "    def loss_Initial(self, x_i, t_i, u_i)\n",
    "        u_i_hat = self.forward(x_i, t_i)\n",
    "\n",
    "    def loss_PDE(self, x, t, u_x):\n",
    "        u_hat = self.forward(x)\n",
    "        u_x_hat = torch.autograd.grad(u_hat, x, torch.ones(x.shape), create_graph=True)[0]\n",
    "        u_xx_hat = torch.autograd.grad(u_x_hat, x, torch.ones(x.shape), create_graph=True)[0]\n",
    "        loss = self.loss_func(u_xx, u_xx_hat)\n",
    "        return loss\n",
    "    \n",
    "    def loss(self, x, u_xx, x_b, u_b):\n",
    "        loss = self.loss_BC(x_b, u_b) + self.loss_PDE(x, u_xx)\n",
    "        return loss\n",
    "    \n",
    "    def step(self, x, u_x, x_b, u_b):\n",
    "        self.train()\n",
    "        self.optimizer.zero_grad()\n",
    "        loss = self.loss(x, u_xx, x_b, u_b)\n",
    "        loss.backward(retain_graph=True)\n",
    "        self.optimizer.step()\n",
    "        self.eval()\n",
    "        return self.loss_BC(x_b, u_b), self.loss_PDE(x, u_xx)\n",
    "net = Net(N_in, N_out, N_hid=10)"
   ]
  },
  {
   "cell_type": "code",
   "execution_count": null,
   "id": "bb6f78b1",
   "metadata": {},
   "outputs": [],
   "source": []
  },
  {
   "cell_type": "code",
   "execution_count": null,
   "id": "0f326b3c",
   "metadata": {},
   "outputs": [],
   "source": []
  }
 ],
 "metadata": {
  "kernelspec": {
   "display_name": "Python 3 (ipykernel)",
   "language": "python",
   "name": "python3"
  },
  "language_info": {
   "codemirror_mode": {
    "name": "ipython",
    "version": 3
   },
   "file_extension": ".py",
   "mimetype": "text/x-python",
   "name": "python",
   "nbconvert_exporter": "python",
   "pygments_lexer": "ipython3",
   "version": "3.9.6"
  }
 },
 "nbformat": 4,
 "nbformat_minor": 5
}
