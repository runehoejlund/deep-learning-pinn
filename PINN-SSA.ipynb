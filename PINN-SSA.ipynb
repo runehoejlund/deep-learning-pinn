{
 "cells": [
  {
   "cell_type": "code",
   "execution_count": 1,
   "id": "2e6e09d9",
   "metadata": {},
   "outputs": [],
   "source": [
    "import torch\n",
    "import torch.nn as nn\n",
    "import torch.optim as optim\n",
    "import matplotlib.pyplot as plt\n",
    "import scipy.io\n",
    "import numpy as np"
   ]
  },
  {
   "cell_type": "code",
   "execution_count": 2,
   "id": "9135db97",
   "metadata": {},
   "outputs": [],
   "source": [
    "from matplotlib import rcParams\n",
    "rcParams.update({\n",
    "    \"font.size\": 14})"
   ]
  },
  {
   "cell_type": "code",
   "execution_count": 3,
   "id": "922f1608",
   "metadata": {},
   "outputs": [],
   "source": [
    "from scipy.interpolate import InterpolatedUnivariateSpline"
   ]
  },
  {
   "cell_type": "code",
   "execution_count": 4,
   "id": "8f0ad8d6",
   "metadata": {},
   "outputs": [],
   "source": [
    "ssa_v = np.genfromtxt('./ssa/compare_data_output.csv')[1:, :]\n",
    "b_val = ssa_v[:, 0]\n",
    "h_val = ssa_v[:, 1]\n",
    "u_val = ssa_v[:, 2]\n",
    "xh_val = ssa_v[:, 3]\n",
    "xu_val = ssa_v[:, 4]"
   ]
  },
  {
   "cell_type": "code",
   "execution_count": 5,
   "id": "544be432",
   "metadata": {},
   "outputs": [
    {
     "data": {
      "text/plain": [
       "2.345833636298257"
      ]
     },
     "execution_count": 5,
     "metadata": {},
     "output_type": "execute_result"
    }
   ],
   "source": [
    "xh_val[-1]"
   ]
  },
  {
   "cell_type": "code",
   "execution_count": 6,
   "id": "0daa47c8",
   "metadata": {},
   "outputs": [],
   "source": [
    "b_int = InterpolatedUnivariateSpline(xh_val, b_val)\n",
    "b_x_int = b_int.derivative(n=1)\n",
    "h_int = InterpolatedUnivariateSpline(xh_val, h_val)\n",
    "h_x_int = h_int.derivative(n=1)"
   ]
  },
  {
   "cell_type": "code",
   "execution_count": 7,
   "id": "925bf836",
   "metadata": {},
   "outputs": [],
   "source": [
    "def b_x(x):\n",
    "    if type(x) is torch.Tensor:\n",
    "        x = x.detach()\n",
    "    return torch.tensor(b_x_int(x)).float()\n",
    "\n",
    "def h_x(x):\n",
    "    if type(x) is torch.Tensor:\n",
    "        x = x.detach()\n",
    "    return torch.tensor(h_x_int(x)).float()\n",
    "\n",
    "def b(x):\n",
    "    if type(x) is torch.Tensor:\n",
    "        x = x.detach()\n",
    "    return torch.tensor(b_int(x)).float()\n",
    "\n",
    "def h(x):\n",
    "    if type(x) is torch.Tensor:\n",
    "        x = x.detach()\n",
    "    return torch.tensor(h_int(x)).float()"
   ]
  },
  {
   "cell_type": "code",
   "execution_count": 8,
   "id": "9177621d",
   "metadata": {},
   "outputs": [],
   "source": [
    "x_b0 = torch.tensor(0).reshape(-1, 1).float()\n",
    "u_b0 = torch.tensor(0).reshape(-1, 1).float()\n",
    "x_b1 = torch.tensor(xh_val[-1]).reshape(-1, 1).float()\n",
    "x_b1.requires_grad=True\n",
    "ux_b1 = torch.tensor(19.6523087).reshape(-1, 1).float()\n",
    "x = torch.tensor(xu_val, requires_grad=True).reshape(-1, 1).float()"
   ]
  },
  {
   "cell_type": "code",
   "execution_count": 9,
   "id": "575a97ea",
   "metadata": {},
   "outputs": [],
   "source": [
    "# dimensional parameters\n",
    "eps = 0.002587853191\n",
    "c_hat = 0.8501309976\n",
    "m = 3\n",
    "n = 3"
   ]
  },
  {
   "cell_type": "code",
   "execution_count": 19,
   "id": "aa8fb52a",
   "metadata": {},
   "outputs": [],
   "source": [
    "class Net(nn.Module):\n",
    "    def __init__(self,\n",
    "        N_in, N_out,\n",
    "        N_hid = 30, N_layers=3,\n",
    "        loss_func=nn.MSELoss(),\n",
    "        learning_rate = 0.01,\n",
    "        optimizer = optim.Adam,\n",
    "        act_func=nn.Tanh()\n",
    "                ):\n",
    "        \n",
    "        super(Net, self).__init__()\n",
    "        self.loss_func = loss_func\n",
    "\n",
    "        # Initialise layers\n",
    "        layers = [nn.Linear(in_features=N_in,\n",
    "                    out_features=N_hid,\n",
    "                    bias=True), act_func]\n",
    "        for _ in range(N_layers - 1):\n",
    "            layers += [nn.Linear(in_features=N_hid,\n",
    "                    out_features=N_hid,\n",
    "                    bias=True), act_func]\n",
    "        layers += [nn.Linear(in_features=N_hid,\n",
    "                    out_features=N_out,\n",
    "                    bias=True)]\n",
    "\n",
    "        self.layers = nn.Sequential(*layers)\n",
    "        self.optimizer = optimizer(self.parameters(), lr=learning_rate)\n",
    "        # Save hyperparameters\n",
    "        self.N_hid = N_hid\n",
    "        self.N_layers = N_layers\n",
    "        self.act_func = act_func\n",
    "        self.learning_rate = learning_rate\n",
    "        self.N_params = sum([p.numel() for p in self.parameters()])\n",
    "        \n",
    "    def forward(self, x):\n",
    "        out = self.layers(x)\n",
    "        return out\n",
    "    \n",
    "    def PDE(self, x, h, h_x, b_x):\n",
    "        # Evaluate network and derivatives\n",
    "        u_hat = self.forward(x)\n",
    "        u_x_hat = torch.autograd.grad(u_hat, x, torch.ones(x.shape), create_graph=True)[0]\n",
    "        u_xx_hat = torch.autograd.grad(u_x_hat, x, torch.ones(x.shape), create_graph=True)[0]\n",
    "        \n",
    "        # Calculate terms\n",
    "        #prefactor = 4*eps\n",
    "        #extensional_term1 = h_x(x) * torch.abs(u_x_hat)**(1/3-1) * u_x_hat\n",
    "        #extensional_term2 = h(x)/3*torch.abs(u_x_hat)**(1/3-2)*u_xx_hat\n",
    "        #extensional = prefactor * (extensional_term1 + extensional_term2)\n",
    "        \n",
    "        \n",
    "        # Calculate extensional again\n",
    "        prefactor = 4*eps*torch.abs(u_x_hat)**(1/3-1)\n",
    "        extensional_term1 = h_x(x) * u_x_hat\n",
    "        extensional_term2 = h(x)/3*u_xx_hat\n",
    "        extensional = prefactor * (extensional_term1 + extensional_term2)\n",
    "\n",
    "        \n",
    "        basal = c_hat * torch.abs(u_hat)**(1/3-1)*u_hat\n",
    "        driving = h(x) * (h_x(x) - b_x(x))\n",
    "        \n",
    "        pde = extensional - basal - driving\n",
    "        return pde\n",
    "    \n",
    "    def loss_dirichlet(self, x_b0, u_b0):\n",
    "        u_b0_hat = self.forward(x_b0)\n",
    "        loss_b0 = self.loss_func(u_b0, u_b0_hat.reshape(u_b0.shape))\n",
    "        return loss_b0\n",
    "    \n",
    "    def loss_neumann(self, x_b1, ux_b1):\n",
    "        u_b1_hat = self.forward(x_b1)\n",
    "        ux_b1_hat = torch.autograd.grad(u_b1_hat, x_b1, torch.ones(x_b1.shape), create_graph=True)[0]\n",
    "        loss_b1 = self.loss_func(ux_b1, ux_b1_hat.reshape(ux_b1.shape))\n",
    "        return loss_b1\n",
    "        \n",
    "        \n",
    "    def loss_PDE(self, x, h, h_x, b_x):\n",
    "        pde = self.PDE(x, h, h_x, b_x)\n",
    "        loss = self.loss_func(pde, torch.zeros(pde.shape, requires_grad=True))\n",
    "        return loss\n",
    "    \n",
    "    def loss(self, x, h, h_x, b_x, x_b0, x_b1, u_b0, ux_b1):\n",
    "        loss = self.loss_PDE(x, h, h_x, b_x) + self.loss_dirichlet(x_b0, u_b0) + self.loss_neumann(x_b1, ux_b1)\n",
    "        return loss\n",
    "    \n",
    "    def step(self, x, h, h_x, b_x, x_b0, x_b1, u_b0, ux_b1):\n",
    "        self.train()\n",
    "        self.optimizer.zero_grad()\n",
    "        loss = self.loss(x, h, h_x, b_x, x_b0, x_b1, u_b0, ux_b1)\n",
    "        loss.backward(retain_graph=True)\n",
    "        self.optimizer.step()\n",
    "        self.eval()\n",
    "        return self.loss_PDE(x, h, h_x, b_x), self.loss_dirichlet(x_b0, u_b0), self.loss_neumann(x_b1, ux_b1)"
   ]
  },
  {
   "cell_type": "code",
   "execution_count": 20,
   "id": "3053b0fa",
   "metadata": {},
   "outputs": [],
   "source": [
    "def eval_net(net, u, x):\n",
    "    u = torch.tensor(u).reshape(-1, 1)\n",
    "    u_hat = net(x).detach().reshape(-1,1)\n",
    "    MSE = torch.mean((u - u_hat)**2)\n",
    "    return MSE"
   ]
  },
  {
   "cell_type": "code",
   "execution_count": 21,
   "id": "a2b80f2c",
   "metadata": {},
   "outputs": [],
   "source": [
    "def progress(i, total):\n",
    "    print(\"\\r\", '{:.2f}% '.format((i+1)*100/total), end=\"\")"
   ]
  },
  {
   "cell_type": "code",
   "execution_count": 106,
   "id": "5fa61729",
   "metadata": {},
   "outputs": [],
   "source": [
    "loss_pde = []\n",
    "loss_neumann = []\n",
    "loss_dirichlet = []\n",
    "loss_data = []\n",
    "lam = []\n",
    "loss_epochs = []\n",
    "epochs = 1000\n",
    "net = Net(N_in=1, N_out=1, N_hid=30, N_layers=2)"
   ]
  },
  {
   "cell_type": "code",
   "execution_count": 107,
   "id": "275c7b88",
   "metadata": {},
   "outputs": [
    {
     "name": "stdout",
     "output_type": "stream",
     "text": [
      " 1.67% Epoch: 500. data loss: 0.964. physics loss: 0.345\n",
      " 3.33% Epoch: 1000. data loss: 1.063. physics loss: 0.229\n",
      " 5.00% Epoch: 1500. data loss: 1.106. physics loss: 0.203\n",
      " 6.67% Epoch: 2000. data loss: 1.124. physics loss: 0.192\n",
      " 8.33% Epoch: 2500. data loss: 1.131. physics loss: 0.185\n",
      " 10.00% Epoch: 3000. data loss: 1.131. physics loss: 0.180\n",
      " 11.67% Epoch: 3500. data loss: 1.123. physics loss: 0.177\n",
      " 13.33% Epoch: 4000. data loss: 1.104. physics loss: 0.173\n",
      " 15.00% Epoch: 4500. data loss: 1.068. physics loss: 0.170\n",
      " 16.67% Epoch: 5000. data loss: 1.017. physics loss: 0.166\n",
      " 18.33% Epoch: 5500. data loss: 0.960. physics loss: 0.162\n",
      " 20.00% Epoch: 6000. data loss: 0.908. physics loss: 0.158\n",
      " 21.67% Epoch: 6500. data loss: 0.570. physics loss: 0.152\n",
      " 23.33% Epoch: 7000. data loss: 1.011. physics loss: 0.179\n",
      " 25.00% Epoch: 7500. data loss: 1.011. physics loss: 0.170\n",
      " 26.67% Epoch: 8000. data loss: 1.003. physics loss: 0.166\n",
      " 28.33% Epoch: 8500. data loss: 0.988. physics loss: 0.164\n",
      " 30.00% Epoch: 9000. data loss: 0.968. physics loss: 0.162\n",
      " 31.67% Epoch: 9500. data loss: 0.946. physics loss: 0.161\n",
      " 33.33% Epoch: 10000. data loss: 0.923. physics loss: 0.160\n",
      " 35.00% Epoch: 10500. data loss: 0.902. physics loss: 0.159\n",
      " 36.67% Epoch: 11000. data loss: 0.885. physics loss: 0.158\n",
      " 38.33% Epoch: 11500. data loss: 0.872. physics loss: 0.157\n",
      " 40.00% Epoch: 12000. data loss: 0.863. physics loss: 0.157\n",
      " 41.67% Epoch: 12500. data loss: 0.856. physics loss: 0.157\n",
      " 43.33% Epoch: 13000. data loss: 0.852. physics loss: 0.156\n",
      " 45.00% Epoch: 13500. data loss: 0.845. physics loss: 0.161\n",
      " 46.67% Epoch: 14000. data loss: 0.846. physics loss: 0.155\n",
      " 48.33% Epoch: 14500. data loss: 0.839. physics loss: 0.155\n",
      " 50.00% Epoch: 15000. data loss: 18.336. physics loss: 0.232\n",
      " 51.67% Epoch: 15500. data loss: 11.201. physics loss: 0.167\n",
      " 53.33% Epoch: 16000. data loss: 5.586. physics loss: 0.105\n",
      " 55.00% Epoch: 16500. data loss: 2.020. physics loss: 0.054\n",
      " 56.45% \r"
     ]
    },
    {
     "ename": "KeyboardInterrupt",
     "evalue": "",
     "output_type": "error",
     "traceback": [
      "\u001b[0;31m---------------------------------------------------------------------------\u001b[0m",
      "\u001b[0;31mKeyboardInterrupt\u001b[0m                         Traceback (most recent call last)",
      "\u001b[0;32m/var/folders/lq/v3qtspgn4ng27ltq05dlgp9w0000gn/T/ipykernel_48004/2659976457.py\u001b[0m in \u001b[0;36m<module>\u001b[0;34m\u001b[0m\n\u001b[1;32m      7\u001b[0m \u001b[0;34m\u001b[0m\u001b[0m\n\u001b[1;32m      8\u001b[0m     \u001b[0mloss_data\u001b[0m\u001b[0;34m.\u001b[0m\u001b[0mappend\u001b[0m\u001b[0;34m(\u001b[0m\u001b[0meval_net\u001b[0m\u001b[0;34m(\u001b[0m\u001b[0mnet\u001b[0m\u001b[0;34m,\u001b[0m \u001b[0mu_val\u001b[0m\u001b[0;34m,\u001b[0m \u001b[0mx\u001b[0m\u001b[0;34m)\u001b[0m\u001b[0;34m)\u001b[0m\u001b[0;34m\u001b[0m\u001b[0;34m\u001b[0m\u001b[0m\n\u001b[0;32m----> 9\u001b[0;31m     \u001b[0mprogress\u001b[0m\u001b[0;34m(\u001b[0m\u001b[0me\u001b[0m\u001b[0;34m,\u001b[0m \u001b[0mepochs\u001b[0m\u001b[0;34m)\u001b[0m\u001b[0;34m\u001b[0m\u001b[0;34m\u001b[0m\u001b[0m\n\u001b[0m\u001b[1;32m     10\u001b[0m     \u001b[0;32mif\u001b[0m \u001b[0;34m(\u001b[0m\u001b[0me\u001b[0m\u001b[0;34m+\u001b[0m\u001b[0;36m1\u001b[0m\u001b[0;34m)\u001b[0m\u001b[0;34m%\u001b[0m\u001b[0;36m500\u001b[0m \u001b[0;34m==\u001b[0m \u001b[0;36m0\u001b[0m\u001b[0;34m:\u001b[0m\u001b[0;34m\u001b[0m\u001b[0;34m\u001b[0m\u001b[0m\n\u001b[1;32m     11\u001b[0m         \u001b[0mprint\u001b[0m\u001b[0;34m(\u001b[0m\u001b[0;34m'Epoch: {:d}. data loss: {:.3f}. physics loss: {:.3f}'\u001b[0m\u001b[0;34m.\u001b[0m\u001b[0mformat\u001b[0m\u001b[0;34m(\u001b[0m\u001b[0me\u001b[0m\u001b[0;34m+\u001b[0m\u001b[0;36m1\u001b[0m\u001b[0;34m,\u001b[0m \u001b[0mloss_data\u001b[0m\u001b[0;34m[\u001b[0m\u001b[0;34m-\u001b[0m\u001b[0;36m1\u001b[0m\u001b[0;34m]\u001b[0m\u001b[0;34m,\u001b[0m \u001b[0mloss_dirichlet\u001b[0m\u001b[0;34m[\u001b[0m\u001b[0;34m-\u001b[0m\u001b[0;36m1\u001b[0m\u001b[0;34m]\u001b[0m \u001b[0;34m+\u001b[0m \u001b[0mloss_pde\u001b[0m\u001b[0;34m[\u001b[0m\u001b[0;34m-\u001b[0m\u001b[0;36m1\u001b[0m\u001b[0;34m]\u001b[0m \u001b[0;34m+\u001b[0m \u001b[0mloss_neumann\u001b[0m\u001b[0;34m[\u001b[0m\u001b[0;34m-\u001b[0m\u001b[0;36m1\u001b[0m\u001b[0;34m]\u001b[0m\u001b[0;34m)\u001b[0m\u001b[0;34m)\u001b[0m\u001b[0;34m\u001b[0m\u001b[0;34m\u001b[0m\u001b[0m\n",
      "\u001b[0;32m/var/folders/lq/v3qtspgn4ng27ltq05dlgp9w0000gn/T/ipykernel_48004/2917321078.py\u001b[0m in \u001b[0;36mprogress\u001b[0;34m(i, total)\u001b[0m\n\u001b[1;32m      1\u001b[0m \u001b[0;32mdef\u001b[0m \u001b[0mprogress\u001b[0m\u001b[0;34m(\u001b[0m\u001b[0mi\u001b[0m\u001b[0;34m,\u001b[0m \u001b[0mtotal\u001b[0m\u001b[0;34m)\u001b[0m\u001b[0;34m:\u001b[0m\u001b[0;34m\u001b[0m\u001b[0;34m\u001b[0m\u001b[0m\n\u001b[0;32m----> 2\u001b[0;31m     \u001b[0mprint\u001b[0m\u001b[0;34m(\u001b[0m\u001b[0;34m\"\\r\"\u001b[0m\u001b[0;34m,\u001b[0m \u001b[0;34m'{:.2f}% '\u001b[0m\u001b[0;34m.\u001b[0m\u001b[0mformat\u001b[0m\u001b[0;34m(\u001b[0m\u001b[0;34m(\u001b[0m\u001b[0mi\u001b[0m\u001b[0;34m+\u001b[0m\u001b[0;36m1\u001b[0m\u001b[0;34m)\u001b[0m\u001b[0;34m*\u001b[0m\u001b[0;36m100\u001b[0m\u001b[0;34m/\u001b[0m\u001b[0mtotal\u001b[0m\u001b[0;34m)\u001b[0m\u001b[0;34m,\u001b[0m \u001b[0mend\u001b[0m\u001b[0;34m=\u001b[0m\u001b[0;34m\"\"\u001b[0m\u001b[0;34m)\u001b[0m\u001b[0;34m\u001b[0m\u001b[0;34m\u001b[0m\u001b[0m\n\u001b[0m",
      "\u001b[0;32m~/opt/miniconda3/envs/deeplearning/lib/python3.9/site-packages/ipykernel/iostream.py\u001b[0m in \u001b[0;36mwrite\u001b[0;34m(self, string)\u001b[0m\n\u001b[1;32m    527\u001b[0m             \u001b[0mis_child\u001b[0m \u001b[0;34m=\u001b[0m \u001b[0;34m(\u001b[0m\u001b[0;32mnot\u001b[0m \u001b[0mself\u001b[0m\u001b[0;34m.\u001b[0m\u001b[0m_is_master_process\u001b[0m\u001b[0;34m(\u001b[0m\u001b[0;34m)\u001b[0m\u001b[0;34m)\u001b[0m\u001b[0;34m\u001b[0m\u001b[0;34m\u001b[0m\u001b[0m\n\u001b[1;32m    528\u001b[0m             \u001b[0;31m# only touch the buffer in the IO thread to avoid races\u001b[0m\u001b[0;34m\u001b[0m\u001b[0;34m\u001b[0m\u001b[0;34m\u001b[0m\u001b[0m\n\u001b[0;32m--> 529\u001b[0;31m             \u001b[0mself\u001b[0m\u001b[0;34m.\u001b[0m\u001b[0mpub_thread\u001b[0m\u001b[0;34m.\u001b[0m\u001b[0mschedule\u001b[0m\u001b[0;34m(\u001b[0m\u001b[0;32mlambda\u001b[0m\u001b[0;34m:\u001b[0m \u001b[0mself\u001b[0m\u001b[0;34m.\u001b[0m\u001b[0m_buffer\u001b[0m\u001b[0;34m.\u001b[0m\u001b[0mwrite\u001b[0m\u001b[0;34m(\u001b[0m\u001b[0mstring\u001b[0m\u001b[0;34m)\u001b[0m\u001b[0;34m)\u001b[0m\u001b[0;34m\u001b[0m\u001b[0;34m\u001b[0m\u001b[0m\n\u001b[0m\u001b[1;32m    530\u001b[0m             \u001b[0;32mif\u001b[0m \u001b[0mis_child\u001b[0m\u001b[0;34m:\u001b[0m\u001b[0;34m\u001b[0m\u001b[0;34m\u001b[0m\u001b[0m\n\u001b[1;32m    531\u001b[0m                 \u001b[0;31m# mp.Pool cannot be trusted to flush promptly (or ever),\u001b[0m\u001b[0;34m\u001b[0m\u001b[0;34m\u001b[0m\u001b[0;34m\u001b[0m\u001b[0m\n",
      "\u001b[0;32m~/opt/miniconda3/envs/deeplearning/lib/python3.9/site-packages/ipykernel/iostream.py\u001b[0m in \u001b[0;36mschedule\u001b[0;34m(self, f)\u001b[0m\n\u001b[1;32m    209\u001b[0m         \u001b[0mIf\u001b[0m \u001b[0mthe\u001b[0m \u001b[0mthread\u001b[0m \u001b[0;32mis\u001b[0m \u001b[0;32mnot\u001b[0m \u001b[0mrunning\u001b[0m\u001b[0;34m,\u001b[0m \u001b[0mcall\u001b[0m \u001b[0mimmediately\u001b[0m\u001b[0;34m.\u001b[0m\u001b[0;34m\u001b[0m\u001b[0;34m\u001b[0m\u001b[0m\n\u001b[1;32m    210\u001b[0m         \"\"\"\n\u001b[0;32m--> 211\u001b[0;31m         \u001b[0;32mif\u001b[0m \u001b[0mself\u001b[0m\u001b[0;34m.\u001b[0m\u001b[0mthread\u001b[0m\u001b[0;34m.\u001b[0m\u001b[0mis_alive\u001b[0m\u001b[0;34m(\u001b[0m\u001b[0;34m)\u001b[0m\u001b[0;34m:\u001b[0m\u001b[0;34m\u001b[0m\u001b[0;34m\u001b[0m\u001b[0m\n\u001b[0m\u001b[1;32m    212\u001b[0m             \u001b[0mself\u001b[0m\u001b[0;34m.\u001b[0m\u001b[0m_events\u001b[0m\u001b[0;34m.\u001b[0m\u001b[0mappend\u001b[0m\u001b[0;34m(\u001b[0m\u001b[0mf\u001b[0m\u001b[0;34m)\u001b[0m\u001b[0;34m\u001b[0m\u001b[0;34m\u001b[0m\u001b[0m\n\u001b[1;32m    213\u001b[0m             \u001b[0;31m# wake event thread (message content is ignored)\u001b[0m\u001b[0;34m\u001b[0m\u001b[0;34m\u001b[0m\u001b[0;34m\u001b[0m\u001b[0m\n",
      "\u001b[0;31mKeyboardInterrupt\u001b[0m: "
     ]
    }
   ],
   "source": [
    "epochs = 30000\n",
    "for e in range(epochs):\n",
    "    _loss_pde, _loss_dirichlet, _loss_neumann = net.step(x, h, h_x, b_x, x_b0, x_b1, u_b0, ux_b1)\n",
    "    loss_pde.append(_loss_pde.detach())\n",
    "    loss_dirichlet.append(_loss_dirichlet.detach())\n",
    "    loss_neumann.append(_loss_neumann.detach())\n",
    "\n",
    "    loss_data.append(eval_net(net, u_val, x))\n",
    "    progress(e, epochs)\n",
    "    if (e+1)%500 == 0:\n",
    "        print('Epoch: {:d}. data loss: {:.3f}. physics loss: {:.3f}'.format(e+1, loss_data[-1], loss_dirichlet[-1] + loss_pde[-1] + loss_neumann[-1]))\n",
    "    if loss_data[-1] < 0.015:\n",
    "        break"
   ]
  },
  {
   "cell_type": "code",
   "execution_count": 80,
   "id": "07ec6cb4",
   "metadata": {},
   "outputs": [
    {
     "data": {
      "text/plain": [
       "<All keys matched successfully>"
      ]
     },
     "execution_count": 80,
     "metadata": {},
     "output_type": "execute_result"
    }
   ],
   "source": [
    "model_path = './ssa/ssa_model_trained'\n",
    "torch.save(net.state_dict(), model_path)\n",
    "net.load_state_dict(torch.load(model_path))"
   ]
  },
  {
   "cell_type": "code",
   "execution_count": 101,
   "id": "cf61d59d",
   "metadata": {},
   "outputs": [
    {
     "data": {
      "image/png": "[encoded data removed]",
      "text/plain": [
       "<Figure size 360x216 with 1 Axes>"
      ]
     },
     "metadata": {
      "needs_background": "light"
     },
     "output_type": "display_data"
    }
   ],
   "source": [
    "fig, ax = plt.subplots(figsize=(5,3))\n",
    "#ax.semilogy(loss_neumann,label='Neumann')\n",
    "#ax.semilogy(loss_dirichlet, label='Dirichlet')\n",
    "#ax.semilogy(loss_pde, label='PDE')\n",
    "ax.semilogy(torch.tensor(loss_dirichlet) + torch.tensor(loss_pde) + torch.tensor(loss_neumann), label='Physics loss')\n",
    "ax.semilogy(loss_data, label='Data loss')\n",
    "fig.legend(ncol=2, bbox_to_anchor=(0.97,1.07))\n",
    "ax.set_ylabel('MSE')\n",
    "ax.set_xlabel('Epoch')\n",
    "ax.grid()\n",
    "#ax.set_title('Losses for SSA training')\n",
    "fig.tight_layout()\n",
    "#fig.savefig('figs/SSA_loss.png', dpi=600)\n"
   ]
  },
  {
   "cell_type": "code",
   "execution_count": 102,
   "id": "921128ad",
   "metadata": {},
   "outputs": [
    {
     "data": {
      "image/png": "[encoded data removed]",
      "text/plain": [
       "<Figure size 288x180 with 1 Axes>"
      ]
     },
     "metadata": {
      "needs_background": "light"
     },
     "output_type": "display_data"
    }
   ],
   "source": [
    "fig, ax = plt.subplots(figsize=(4,2.5))\n",
    "ax.plot(xu_val, u_val, ls='solid', color='blue', label='CFD')\n",
    "ax.plot(xu_val, net(x).detach(), ls='dashed', color='red', label='PINN')\n",
    "ax.set_xlabel('x')\n",
    "ax.set_ylabel('u(x)')\n",
    "ax.grid()\n",
    "ax.legend()\n",
    "fig.tight_layout()\n",
    "fig.savefig('./figs/SSA_comparison.png', dpi=600)"
   ]
  },
  {
   "cell_type": "markdown",
   "id": "813d6a7a",
   "metadata": {},
   "source": [
    "# "
   ]
  }
 ],
 "metadata": {
  "kernelspec": {
   "display_name": "Python 3 (ipykernel)",
   "language": "python",
   "name": "python3"
  },
  "language_info": {
   "codemirror_mode": {
    "name": "ipython",
    "version": 3
   },
   "file_extension": ".py",
   "mimetype": "text/x-python",
   "name": "python",
   "nbconvert_exporter": "python",
   "pygments_lexer": "ipython3",
   "version": "3.9.6"
  }
 },
 "nbformat": 4,
 "nbformat_minor": 5
}
